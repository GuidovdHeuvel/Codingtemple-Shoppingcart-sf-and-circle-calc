{
 "cells": [
  {
   "cell_type": "code",
   "execution_count": 9,
   "metadata": {},
   "outputs": [
    {
     "name": "stdout",
     "output_type": "stream",
     "text": [
      "Give me the length and width of a room and I will give you the square footage: \n",
      "Type 'quit' to stop.\n",
      "What is the length of the house: 55\n",
      "What is the width of the house: 5\n",
      "The square footage of the house is: \n",
      "275\n",
      "Give me the length and width of a room and I will give you the square footage: \n",
      "Type 'quit' to stop.\n",
      "What is the length of the house: quit\n",
      "Alright, have a good one!\n"
     ]
    }
   ],
   "source": [
    "while True:\n",
    "    print(\"Give me the length and width of a room and I will give you the square footage: \")\n",
    "    print(\"Type 'quit' to stop.\")\n",
    "    ask_length = input(\"What is the length of the house: \")\n",
    "    if ask_length == \"quit\":\n",
    "        print(\"Alright, have a good one!\")\n",
    "        break\n",
    "    ask_width = int(input(\"What is the width of the house: \"))\n",
    "    ask_length = int(ask_length)\n",
    "    \n",
    "    print(\"The square footage of the house is: \")\n",
    "    print(ask_length * ask_width)\n"
   ]
  }
 ],
 "metadata": {
  "kernelspec": {
   "display_name": "Python 3",
   "language": "python",
   "name": "python3"
  },
  "language_info": {
   "codemirror_mode": {
    "name": "ipython",
    "version": 3
   },
   "file_extension": ".py",
   "mimetype": "text/x-python",
   "name": "python",
   "nbconvert_exporter": "python",
   "pygments_lexer": "ipython3",
   "version": "3.7.6"
  }
 },
 "nbformat": 4,
 "nbformat_minor": 4
}
