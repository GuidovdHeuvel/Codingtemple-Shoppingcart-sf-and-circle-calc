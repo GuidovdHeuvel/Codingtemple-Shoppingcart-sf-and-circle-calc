{
 "cells": [
  {
   "cell_type": "code",
   "execution_count": null,
   "metadata": {},
   "outputs": [],
   "source": [
    "#Exercises\n",
    "#1) Build a Shopping Cart\n",
    "#Should have the following capabilities:\n",
    "\n",
    "#1) Takes in input\n",
    "#2) Stores user input into a list\n",
    "#3) User can add or delete items\n",
    "#4) User can see current shopping list\n",
    "#5) Loops until user 'quits'\n",
    "#6) Upon quiting the program, print out all items in the user's list"
   ]
  },
  {
   "cell_type": "code",
   "execution_count": null,
   "metadata": {},
   "outputs": [],
   "source": [
    "from IPython.display import clear_output\n",
    "\n",
    "while True:\n",
    "    print(\"Type 'add' to add more items, 'show' to show current cart or 'quit' to quit: \")\n",
    "    ask = input()\n",
    "    if ask == \"quit\":\n",
    "        print(list(zip(items, amount)))\n",
    "        break\n",
    "    elif ask == \"show\":\n",
    "        print(list(zip(items, amount)))\n",
    "    else:\n",
    "        ask_item = input(\"What item would you like to add to the shopping cart?: \")\n",
    "        ask_amount = input(\"How many would you like to add?: \")\n",
    "\n",
    "\n",
    "    items.append(ask_item)\n",
    "    amount.append(ask_amount)\n",
    "    \n",
    "    clear_output()\n",
    "   "
   ]
  },
  {
   "cell_type": "code",
   "execution_count": null,
   "metadata": {},
   "outputs": [],
   "source": [
    "#2) Create a Module in Visual Studio Code and Import It\n",
    "#Module should have the following capabilities:\n",
    "\n",
    "#1) Has a function to calculate the square footage of a room\n",
    "#2) Has a function to calculate the circumference of a circle\n",
    "\n",
    "#Program in Jupyter Notebook should take in user input and use imported functions to calculate a circle's circumference or a houses square footage"
   ]
  },
  {
   "cell_type": "code",
   "execution_count": 1,
   "metadata": {
    "scrolled": true
   },
   "outputs": [
    {
     "name": "stdout",
     "output_type": "stream",
     "text": [
      "Give me the length and width of a room and I will give you the square footage: \n",
      "Type 'quit' to stop.\n",
      "What is the length of the house: 5\n",
      "What is the width of the house: 5\n",
      "The square footage of the house is: \n",
      "25\n",
      "Give me the length and width of a room and I will give you the square footage: \n",
      "Type 'quit' to stop.\n",
      "What is the length of the house: quit\n",
      "Alright, have a good one!\n"
     ]
    }
   ],
   "source": [
    "%run Square_footage.ipynb\n"
   ]
  },
  {
   "cell_type": "code",
   "execution_count": null,
   "metadata": {},
   "outputs": [],
   "source": [
    "%run Calc_circle.ipynb\n"
   ]
  }
 ],
 "metadata": {
  "kernelspec": {
   "display_name": "Python 3",
   "language": "python",
   "name": "python3"
  },
  "language_info": {
   "codemirror_mode": {
    "name": "ipython",
    "version": 3
   },
   "file_extension": ".py",
   "mimetype": "text/x-python",
   "name": "python",
   "nbconvert_exporter": "python",
   "pygments_lexer": "ipython3",
   "version": "3.7.6"
  }
 },
 "nbformat": 4,
 "nbformat_minor": 4
}
